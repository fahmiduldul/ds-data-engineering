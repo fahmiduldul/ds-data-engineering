{
  "nbformat": 4,
  "nbformat_minor": 0,
  "metadata": {
    "kernelspec": {
      "name": "python3",
      "display_name": "Python 3.8.5 64-bit",
      "metadata": {
        "interpreter": {
          "hash": "916dbcbb3f70747c44a77c7bcd40155683ae19c65e1c03b4aa3499c5328201f1"
        }
      }
    },
    "language_info": {
      "codemirror_mode": {
        "name": "ipython",
        "version": 3
      },
      "file_extension": ".py",
      "mimetype": "text/x-python",
      "name": "python",
      "nbconvert_exporter": "python",
      "pygments_lexer": "ipython3",
      "version": "3.8.5-final"
    },
    "colab": {
      "name": "ML_Pipeline.ipynb",
      "provenance": []
    }
  },
  "cells": [
    {
      "cell_type": "markdown",
      "metadata": {
        "id": "oY5FZrSm0qqt"
      },
      "source": [
        "# ML Pipeline Preparation\n",
        "Follow the instructions below to help you create your ML pipeline.\n",
        "### 1. Import libraries and load data from database.\n",
        "- Import Python libraries\n",
        "- Load dataset from database with [`read_sql_table`](https://pandas.pydata.org/pandas-docs/stable/generated/pandas.read_sql_table.html)\n",
        "- Define feature and target variables X and Y"
      ]
    },
    {
      "cell_type": "code",
      "metadata": {
        "colab": {
          "base_uri": "https://localhost:8080/"
        },
        "id": "l2xnTvjh0qqw",
        "outputId": "92c92f88-e601-4363-a707-7d7803c50772"
      },
      "source": [
        "import nltk\n",
        "nltk.download(['punkt', 'stopwords', 'wordnet', 'averaged_perceptron_tagger'])"
      ],
      "execution_count": 1,
      "outputs": [
        {
          "output_type": "stream",
          "text": [
            "[nltk_data] Downloading package punkt to /root/nltk_data...\n",
            "[nltk_data]   Package punkt is already up-to-date!\n",
            "[nltk_data] Downloading package stopwords to /root/nltk_data...\n",
            "[nltk_data]   Package stopwords is already up-to-date!\n",
            "[nltk_data] Downloading package wordnet to /root/nltk_data...\n",
            "[nltk_data]   Package wordnet is already up-to-date!\n",
            "[nltk_data] Downloading package averaged_perceptron_tagger to\n",
            "[nltk_data]     /root/nltk_data...\n",
            "[nltk_data]   Package averaged_perceptron_tagger is already up-to-\n",
            "[nltk_data]       date!\n"
          ],
          "name": "stdout"
        },
        {
          "output_type": "execute_result",
          "data": {
            "text/plain": [
              "True"
            ]
          },
          "metadata": {
            "tags": []
          },
          "execution_count": 1
        }
      ]
    },
    {
      "cell_type": "code",
      "metadata": {
        "colab": {
          "base_uri": "https://localhost:8080/"
        },
        "id": "pHZxFlzs1BZz",
        "outputId": "89eda190-1f60-441e-c625-da5034773afc"
      },
      "source": [
        "from google.colab import drive\r\n",
        "drive.mount('/content/drive')"
      ],
      "execution_count": 2,
      "outputs": [
        {
          "output_type": "stream",
          "text": [
            "Drive already mounted at /content/drive; to attempt to forcibly remount, call drive.mount(\"/content/drive\", force_remount=True).\n"
          ],
          "name": "stdout"
        }
      ]
    },
    {
      "cell_type": "code",
      "metadata": {
        "id": "Be0nHUV20qqx"
      },
      "source": [
        "# import libraries\n",
        "import pandas as pd\n",
        "import numpy as np\n",
        "from sqlalchemy import create_engine\n",
        "import sqlite3 as sq\n",
        "import re\n",
        "import pickle\n",
        "\n",
        "from nltk.tokenize import word_tokenize\n",
        "from nltk.corpus import stopwords\n",
        "from nltk.stem.wordnet import WordNetLemmatizer\n",
        "from nltk.stem.porter import PorterStemmer\n",
        "\n",
        "from sklearn.pipeline import Pipeline, FeatureUnion\n",
        "from sklearn.feature_extraction.text import CountVectorizer, TfidfTransformer\n",
        "from sklearn.multioutput import MultiOutputClassifier\n",
        "from sklearn.ensemble import RandomForestClassifier\n",
        "from sklearn.model_selection import train_test_split\n",
        "from sklearn.metrics import classification_report\n",
        "from sklearn.model_selection import GridSearchCV\n",
        "from sklearn.linear_model import LogisticRegression\n",
        "from sklearn.base import BaseEstimator, TransformerMixin"
      ],
      "execution_count": 3,
      "outputs": []
    },
    {
      "cell_type": "code",
      "metadata": {
        "id": "jk5hue7d0qqy"
      },
      "source": [
        "# load data from database\n",
        "engine = create_engine('sqlite:///Disaster_Messages.db')\n",
        "df = pd.read_sql(\"SELECT * FROM messages_and_categories\", sq.connect(\"/content/drive/MyDrive/datasets/ds-data-engineering/Disaster_Messages.db\"))\n",
        "\n",
        "#testing purpose\n",
        "df = df[0:5000]\n",
        "\n",
        "X = df[\"message\"]\n",
        "Y = df.drop([\"message\", \"original\", \"genre\"], axis=1)"
      ],
      "execution_count": 4,
      "outputs": []
    },
    {
      "cell_type": "markdown",
      "metadata": {
        "id": "jK7gUYdO0qq0"
      },
      "source": [
        "### 2. Write a tokenization function to process your text data"
      ]
    },
    {
      "cell_type": "code",
      "metadata": {
        "id": "fy_PrtZN0qq1"
      },
      "source": [
        "def tokenize(text):\n",
        "    '''\n",
        "    INPUT:\n",
        "    text - raw string\n",
        "\n",
        "    OUTPUT\n",
        "    tokens - list of token word\n",
        "    '''\n",
        "    # make all lowercase and delete punctuation\n",
        "    text = re.sub(r\"[^a-zA-Z0-9]\", \" \", text.lower())\n",
        "\n",
        "    #tokenize and lemmatize\n",
        "    tokens = word_tokenize(text.lower())\n",
        "    tokens = [PorterStemmer().stem(token) for token in tokens]\n",
        "    return tokens"
      ],
      "execution_count": 5,
      "outputs": []
    },
    {
      "cell_type": "markdown",
      "metadata": {
        "id": "2Qa4Aphm0qq2"
      },
      "source": [
        "### 3. Build a machine learning pipeline\n",
        "This machine pipeline should take in the `message` column as input and output classification results on the other 36 categories in the dataset. You may find the [MultiOutputClassifier](http://scikit-learn.org/stable/modules/generated/sklearn.multioutput.MultiOutputClassifier.html) helpful for predicting multiple target variables."
      ]
    },
    {
      "cell_type": "code",
      "metadata": {
        "id": "VoxtLG9Q0qq2"
      },
      "source": [
        "pipeline = Pipeline([\n",
        "    ('vect', CountVectorizer(tokenizer=tokenize)),\n",
        "    ('tfidf', TfidfTransformer()),\n",
        "    ('clf', MultiOutputClassifier(RandomForestClassifier()))\n",
        "])"
      ],
      "execution_count": 6,
      "outputs": []
    },
    {
      "cell_type": "markdown",
      "metadata": {
        "id": "gowWDjy40qq3"
      },
      "source": [
        "### 4. Train pipeline\n",
        "- Split data into train and test sets\n",
        "- Train pipeline"
      ]
    },
    {
      "cell_type": "code",
      "metadata": {
        "colab": {
          "base_uri": "https://localhost:8080/"
        },
        "id": "6-b_g0iu0qq4",
        "outputId": "fad7d84d-4f3e-439b-cb91-739dff9f594d"
      },
      "source": [
        "x_train, x_test, y_train, y_test = train_test_split(X, Y)\n",
        "pipeline.fit(x_train, y_train)"
      ],
      "execution_count": 7,
      "outputs": [
        {
          "output_type": "execute_result",
          "data": {
            "text/plain": [
              "Pipeline(memory=None,\n",
              "         steps=[('vect',\n",
              "                 CountVectorizer(analyzer='word', binary=False,\n",
              "                                 decode_error='strict',\n",
              "                                 dtype=<class 'numpy.int64'>, encoding='utf-8',\n",
              "                                 input='content', lowercase=True, max_df=1.0,\n",
              "                                 max_features=None, min_df=1,\n",
              "                                 ngram_range=(1, 1), preprocessor=None,\n",
              "                                 stop_words=None, strip_accents=None,\n",
              "                                 token_pattern='(?u)\\\\b\\\\w\\\\w+\\\\b',\n",
              "                                 tokenizer=<function tokenize at...\n",
              "                                                                        ccp_alpha=0.0,\n",
              "                                                                        class_weight=None,\n",
              "                                                                        criterion='gini',\n",
              "                                                                        max_depth=None,\n",
              "                                                                        max_features='auto',\n",
              "                                                                        max_leaf_nodes=None,\n",
              "                                                                        max_samples=None,\n",
              "                                                                        min_impurity_decrease=0.0,\n",
              "                                                                        min_impurity_split=None,\n",
              "                                                                        min_samples_leaf=1,\n",
              "                                                                        min_samples_split=2,\n",
              "                                                                        min_weight_fraction_leaf=0.0,\n",
              "                                                                        n_estimators=100,\n",
              "                                                                        n_jobs=None,\n",
              "                                                                        oob_score=False,\n",
              "                                                                        random_state=None,\n",
              "                                                                        verbose=0,\n",
              "                                                                        warm_start=False),\n",
              "                                       n_jobs=None))],\n",
              "         verbose=False)"
            ]
          },
          "metadata": {
            "tags": []
          },
          "execution_count": 7
        }
      ]
    },
    {
      "cell_type": "markdown",
      "metadata": {
        "id": "6rNZn55q0qq4"
      },
      "source": [
        "### 5. Test your model\n",
        "Report the f1 score, precision and recall for each output category of the dataset. You can do this by iterating through the columns and calling sklearn's `classification_report` on each."
      ]
    },
    {
      "cell_type": "code",
      "metadata": {
        "id": "QonQhl1d0qq5"
      },
      "source": [
        "y_preds = pipeline.predict(x_test)\r\n",
        "y_preds = pd.DataFrame(y_preds, columns=y_test.columns)"
      ],
      "execution_count": 8,
      "outputs": []
    },
    {
      "cell_type": "code",
      "metadata": {
        "colab": {
          "base_uri": "https://localhost:8080/"
        },
        "id": "zPPXAsVH6mQz",
        "outputId": "60986cf7-5fce-42f9-cbba-4740fe1dbadb"
      },
      "source": [
        "for col_name in y_preds.columns[0:3]:\r\n",
        "  print(classification_report(y_test[col_name], y_preds[col_name]))"
      ],
      "execution_count": 9,
      "outputs": [
        {
          "output_type": "stream",
          "text": [
            "              precision    recall  f1-score   support\n",
            "\n",
            "           0       0.65      0.34      0.45       273\n",
            "           1       0.83      0.95      0.89       969\n",
            "           2       0.00      0.00      0.00         8\n",
            "\n",
            "    accuracy                           0.81      1250\n",
            "   macro avg       0.49      0.43      0.44      1250\n",
            "weighted avg       0.79      0.81      0.78      1250\n",
            "\n",
            "              precision    recall  f1-score   support\n",
            "\n",
            "           0       0.82      0.82      0.82       669\n",
            "           1       0.79      0.79      0.79       581\n",
            "\n",
            "    accuracy                           0.80      1250\n",
            "   macro avg       0.80      0.80      0.80      1250\n",
            "weighted avg       0.80      0.80      0.80      1250\n",
            "\n",
            "              precision    recall  f1-score   support\n",
            "\n",
            "           0       1.00      1.00      1.00      1248\n",
            "           1       0.00      0.00      0.00         2\n",
            "\n",
            "    accuracy                           1.00      1250\n",
            "   macro avg       0.50      0.50      0.50      1250\n",
            "weighted avg       1.00      1.00      1.00      1250\n",
            "\n"
          ],
          "name": "stdout"
        },
        {
          "output_type": "stream",
          "text": [
            "/usr/local/lib/python3.6/dist-packages/sklearn/metrics/_classification.py:1272: UndefinedMetricWarning: Precision and F-score are ill-defined and being set to 0.0 in labels with no predicted samples. Use `zero_division` parameter to control this behavior.\n",
            "  _warn_prf(average, modifier, msg_start, len(result))\n"
          ],
          "name": "stderr"
        }
      ]
    },
    {
      "cell_type": "markdown",
      "metadata": {
        "id": "WNYbdD_v0qq5"
      },
      "source": [
        "### 6. Improve your model\n",
        "Use grid search to find better parameters. "
      ]
    },
    {
      "cell_type": "code",
      "metadata": {
        "id": "Yr94-iXW0qq6"
      },
      "source": [
        "parameters = {\n",
        "    'clf__estimator__n_estimators': [50,100,200,400],\n",
        "    'clf__estimator__min_samples_split': [2, 3, 5],\n",
        "    'tfidf__use_idf': [True, False]\n",
        "}\n",
        "\n",
        "cv = GridSearchCV(pipeline, param_grid=parameters)"
      ],
      "execution_count": 10,
      "outputs": []
    },
    {
      "cell_type": "code",
      "metadata": {
        "id": "vv8K3Ka_-cvs"
      },
      "source": [
        "cv.fit(x_train, y_train)"
      ],
      "execution_count": null,
      "outputs": []
    },
    {
      "cell_type": "markdown",
      "metadata": {
        "id": "pJIRKd2o0qq6"
      },
      "source": [
        "### 7. Test your model\n",
        "Show the accuracy, precision, and recall of the tuned model.  \n",
        "\n",
        "Since this project focuses on code quality, process, and  pipelines, there is no minimum performance metric needed to pass. However, make sure to fine tune your models for accuracy, precision and recall to make your project stand out - especially for your portfolio!"
      ]
    },
    {
      "cell_type": "code",
      "metadata": {
        "id": "a7W32thD0qq7"
      },
      "source": [
        "y_preds = cv.predict(x_test)\r\n",
        "y_preds = pd.DataFrame(y_preds, columns=y_test.columns)"
      ],
      "execution_count": null,
      "outputs": []
    },
    {
      "cell_type": "code",
      "metadata": {
        "id": "AGa3ShGorE30"
      },
      "source": [
        "for col_name in y_preds.columns[0:3]:\r\n",
        "  print(classification_report(y_test[col_name], y_preds[col_name]))"
      ],
      "execution_count": null,
      "outputs": []
    },
    {
      "cell_type": "markdown",
      "metadata": {
        "id": "Rw0e82UA0qq7"
      },
      "source": [
        "### 8. Try improving your model further. Here are a few ideas:\n",
        "* try other machine learning algorithms\n",
        "* add other features besides the TF-IDF"
      ]
    },
    {
      "cell_type": "code",
      "metadata": {
        "id": "tAEd9aTtxjUg"
      },
      "source": [
        "class StartingVerbExtractor(BaseEstimator, TransformerMixin):\r\n",
        "\r\n",
        "  def starting_verb(self, text):\r\n",
        "    sentence_list = nltk.sent_tokenize(text)\r\n",
        "    for sentence in sentence_list:\r\n",
        "      pos_tags = nltk.pos_tag(tokenize(sentence))\r\n",
        "      if len(pos_tags) != 0:\r\n",
        "        first_word, first_tag = pos_tags[0]\r\n",
        "      else:\r\n",
        "        first_word, first_tag = (' ', ' ')\r\n",
        "      if first_tag in ['VB', 'VBP'] or first_word == 'RT':\r\n",
        "        return True\r\n",
        "    return False\r\n",
        "\r\n",
        "  def fit(self, x, y=None):\r\n",
        "    return self\r\n",
        "\r\n",
        "  def transform(self, X):\r\n",
        "    X_tagged = pd.Series(X).apply(self.starting_verb)\r\n",
        "    return pd.DataFrame(X_tagged)"
      ],
      "execution_count": null,
      "outputs": []
    },
    {
      "cell_type": "code",
      "metadata": {
        "id": "M5qCZUHl0qq8"
      },
      "source": [
        "pipeline2 = Pipeline([\r\n",
        "  ('feature_union', FeatureUnion([\r\n",
        "    ('text_pipeline', Pipeline([\r\n",
        "      ('vect', CountVectorizer(tokenizer=tokenize)),\r\n",
        "      ('tfidf', TfidfTransformer())\r\n",
        "    ])),\r\n",
        "    ('verb_extractor', StartingVerbExtractor())                   \r\n",
        "  ])),\r\n",
        "  ('clf', MultiOutputClassifier(LogisticRegression()))\r\n",
        "])"
      ],
      "execution_count": null,
      "outputs": []
    },
    {
      "cell_type": "code",
      "metadata": {
        "id": "yoG5_FKL20Eq"
      },
      "source": [
        "for col_name in Y.columns:\r\n",
        "  if Y[col_name].sum() == 0:\r\n",
        "    print(col_name)"
      ],
      "execution_count": null,
      "outputs": []
    },
    {
      "cell_type": "code",
      "metadata": {
        "id": "1ha90owdyvsE"
      },
      "source": [
        "pipeline2.fit(x_train, y_train.drop(columns=['child_alone']))"
      ],
      "execution_count": null,
      "outputs": []
    },
    {
      "cell_type": "code",
      "metadata": {
        "id": "kdqy35nY9k--"
      },
      "source": [
        "y_preds2 = pd.DataFrame(pipeline2.predict(x_test), columns=y_test.drop(columns=['child_alone']).columns)"
      ],
      "execution_count": null,
      "outputs": []
    },
    {
      "cell_type": "code",
      "metadata": {
        "id": "vDGiwYmZ9u2V"
      },
      "source": [
        "for col_name in y_preds.columns[0:3]:\r\n",
        "  print(classification_report(y_test[col_name], y_preds2[col_name]))"
      ],
      "execution_count": null,
      "outputs": []
    },
    {
      "cell_type": "markdown",
      "metadata": {
        "id": "ZCNtyeh50qq8"
      },
      "source": [
        "### 9. Export your model as a pickle file"
      ]
    },
    {
      "cell_type": "code",
      "metadata": {
        "id": "nAPcdLgv0qq8"
      },
      "source": [
        "with open('/content/drive/MyDrive/datasets/ds-data-engineering/model.pickle', 'wb') as dir:\r\n",
        "    pickle.dump(pipeline2, dir)"
      ],
      "execution_count": null,
      "outputs": []
    },
    {
      "cell_type": "markdown",
      "metadata": {
        "id": "CvM9S6GL0qq9"
      },
      "source": [
        "### 10. Use this notebook to complete `train.py`\n",
        "Use the template file attached in the Resources folder to write a script that runs the steps above to create a database and export a model based on a new dataset specified by the user."
      ]
    },
    {
      "cell_type": "code",
      "metadata": {
        "id": "dPVNnABx0qq9"
      },
      "source": [
        ""
      ],
      "execution_count": null,
      "outputs": []
    }
  ]
}